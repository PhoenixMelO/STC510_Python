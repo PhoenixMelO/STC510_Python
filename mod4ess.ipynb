{
 "cells": [
  {
   "cell_type": "code",
   "execution_count": 2,
   "metadata": {},
   "outputs": [],
   "source": [
    "from selenium import webdriver\n",
    "from selenium.webdriver.chrome.service import Service\n",
    "from selenium.webdriver.chrome.options import Options\n",
    "from selenium.webdriver.common.keys import Keys\n",
    "from selenium.webdriver.common.by import By\n",
    "from selenium.webdriver.support.wait import WebDriverWait\n",
    "from selenium.webdriver.support.ui import WebDriverWait  \n",
    "from selenium.webdriver.support import expected_conditions as EC\n",
    "from webdriver_manager.chrome import ChromeDriverManager\n",
    "from time  import sleep\n",
    "from bs4 import BeautifulSoup"
   ]
  },
  {
   "cell_type": "code",
   "execution_count": 3,
   "metadata": {},
   "outputs": [],
   "source": [
    "import configparser\n",
    "import config\n",
    "import csv\n",
    "import requests\n",
    "import secrets"
   ]
  },
  {
   "cell_type": "code",
   "execution_count": 14,
   "metadata": {},
   "outputs": [],
   "source": [
    "path = 'D:\\ChromeDriver'\n",
    "driver = webdriver.Chrome(service=Service(ChromeDriverManager().install()))\n",
    "driver.get('https://mastodon.social/auth/sign_in')\n",
    "assert 'Mastodon' in driver.title"
   ]
  },
  {
   "cell_type": "code",
   "execution_count": 15,
   "metadata": {},
   "outputs": [],
   "source": [
    "log_form = driver.find_element('id','user_email').send_keys('daragonespinoza@gmail.com')"
   ]
  },
  {
   "cell_type": "code",
   "execution_count": 16,
   "metadata": {},
   "outputs": [],
   "source": [
    "sleep(1)"
   ]
  },
  {
   "cell_type": "code",
   "execution_count": 17,
   "metadata": {},
   "outputs": [],
   "source": [
    "upass_log = driver.find_element('id','user_password').send_keys('D@t@$c!3nc3ASU')"
   ]
  },
  {
   "cell_type": "code",
   "execution_count": 18,
   "metadata": {},
   "outputs": [],
   "source": [
    "sleep(2)"
   ]
  },
  {
   "cell_type": "code",
   "execution_count": 19,
   "metadata": {},
   "outputs": [],
   "source": [
    "login_button = driver.find_element('name','button').click()"
   ]
  },
  {
   "attachments": {},
   "cell_type": "markdown",
   "metadata": {},
   "source": [
    "driver.get('https://mastodon.social/tags/woke')\n",
    "explore_key = driver.find_element('class', \"fa fa-hashtag column-link_icon fa-fw\").click()\n",
    "\n",
    " by = By.CSS_SELECTOR\n",
    "    828     value = f'[name=\"{value}\"]'\n",
    "--> 830 return self.execute(Command.FIND_ELEMENT, {\"using\": by, \"value\": value})[\"value\"]"
   ]
  },
  {
   "cell_type": "code",
   "execution_count": 20,
   "metadata": {},
   "outputs": [],
   "source": [
    "explore_key = driver.find_element(By.XPATH,'//*[@id=\"mastodon\"]/div/div/div[2]/div[3]/div/div/a[3]').click()"
   ]
  },
  {
   "cell_type": "code",
   "execution_count": 21,
   "metadata": {},
   "outputs": [],
   "source": [
    "sleep(2)"
   ]
  },
  {
   "cell_type": "code",
   "execution_count": 13,
   "metadata": {},
   "outputs": [],
   "source": [
    "feed = driver.page_source"
   ]
  },
  {
   "cell_type": "code",
   "execution_count": 22,
   "metadata": {},
   "outputs": [],
   "source": [
    "thispage = requests.get('https://mastodon.social/tags/woke')"
   ]
  },
  {
   "cell_type": "code",
   "execution_count": 23,
   "metadata": {},
   "outputs": [],
   "source": [
    "sleep(1)"
   ]
  },
  {
   "cell_type": "code",
   "execution_count": 29,
   "metadata": {},
   "outputs": [],
   "source": [
    "bs = BeautifulSoup(feed, 'html.parser')"
   ]
  },
  {
   "cell_type": "code",
   "execution_count": null,
   "metadata": {},
   "outputs": [],
   "source": [
    "'//*[@id=\"mastodon\"]/div/div/div[2]/div[3]/div/div/a[3]')"
   ]
  },
  {
   "cell_type": "code",
   "execution_count": 43,
   "metadata": {},
   "outputs": [],
   "source": [
    "namelist = bs.find_all(\"span\",{'class':\"scrollable\"})"
   ]
  },
  {
   "cell_type": "code",
   "execution_count": 44,
   "metadata": {},
   "outputs": [
    {
     "data": {
      "text/plain": [
       "[]"
      ]
     },
     "execution_count": 44,
     "metadata": {},
     "output_type": "execute_result"
    }
   ],
   "source": [
    "namelist"
   ]
  },
  {
   "cell_type": "code",
   "execution_count": null,
   "metadata": {},
   "outputs": [],
   "source": [
    "comments = bs.find(role_='feed')"
   ]
  },
  {
   "cell_type": "code",
   "execution_count": null,
   "metadata": {},
   "outputs": [],
   "source": [
    "driver.quit()"
   ]
  },
  {
   "attachments": {},
   "cell_type": "markdown",
   "metadata": {},
   "source": [
    "last_height = driver.execute_script('return window.screen.height')\n",
    "itemTargetCount = 20\n",
    "i = 1\n",
    "\n",
    "while True:\n",
    "    driver.execute_script('window.scrollTo(0, {screen_height}*{i});'.format(screen_height=screen_height, i=i))\n",
    "    i += 1\n",
    "    \n",
    "    sleep(1)\n",
    "    \n",
    "    new_height = driver.execute_script('return document.body.scrollHeight;')\n",
    "    \n",
    "    if new_height == last_height:\n",
    "        break"
   ]
  },
  {
   "cell_type": "code",
   "execution_count": null,
   "metadata": {},
   "outputs": [],
   "source": []
  },
  {
   "cell_type": "code",
   "execution_count": null,
   "metadata": {},
   "outputs": [],
   "source": [
    "sleep(3)"
   ]
  },
  {
   "cell_type": "code",
   "execution_count": null,
   "metadata": {},
   "outputs": [],
   "source": [
    "tags = []\n",
    "soup = BeautifulSoup(driver.page_source, \"html.parser\")\n",
    "for parent in soup.find_all(class_=\"scrollable\"):\n",
    "    article = parent.find(\"a\", class_=\"SQnoC3ObvgnGjWt90zD9Z _2INHSNB8V5eaWp4P0rY_mE\")\n",
    "    base = \"https://www.reddit.com/search/?q=covid19\"\n",
    "    link = a_tag.attrs['href']\n",
    "    url = urljoin(base, link)\n",
    "    urls.append(url)"
   ]
  },
  {
   "cell_type": "code",
   "execution_count": null,
   "metadata": {},
   "outputs": [],
   "source": [
    "last_height = new_height\n",
    "    \n",
    "    elements = driver.find_elements(By.CSS_SELECTOR, 'item-list > div')\n",
    "    textElement = []\n",
    "    for element in elements:\n",
    "        textElement.append(element.text)\n",
    "                \n",
    "    print(tags)"
   ]
  }
 ],
 "metadata": {
  "kernelspec": {
   "display_name": "venv",
   "language": "python",
   "name": "python3"
  },
  "language_info": {
   "codemirror_mode": {
    "name": "ipython",
    "version": 3
   },
   "file_extension": ".py",
   "mimetype": "text/x-python",
   "name": "python",
   "nbconvert_exporter": "python",
   "pygments_lexer": "ipython3",
   "version": "3.10.10"
  },
  "orig_nbformat": 4,
  "vscode": {
   "interpreter": {
    "hash": "bc9e999592116e87911213ff19e1fd4226907fa5345eb81c79f42a8c6f2ccaf9"
   }
  }
 },
 "nbformat": 4,
 "nbformat_minor": 2
}
